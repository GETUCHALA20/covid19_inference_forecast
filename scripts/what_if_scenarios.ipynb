{
 "cells": [
  {
   "cell_type": "code",
   "execution_count": 1,
   "metadata": {},
   "outputs": [
    {
     "name": "stdout",
     "output_type": "stream",
     "text": [
      "INFO: This code is not longer developed, use our new module instead: github.com/Priesemann-Group/covid19_inference\n"
     ]
    }
   ],
   "source": [
    "# ------------------------------------------------------------------------------ #\n",
    "# What if scenarios for relaxations around May 11\n",
    "# ------------------------------------------------------------------------------ #\n",
    "%load_ext autoreload\n",
    "%autoreload 2\n",
    "\n",
    "import datetime\n",
    "import copy\n",
    "import sys\n",
    "\n",
    "import pymc3 as pm\n",
    "import numpy as np\n",
    "import matplotlib as mpl\n",
    "import matplotlib.pyplot as plt\n",
    "\n",
    "try:\n",
    "    import covid19_inference as cov19\n",
    "except ModuleNotFoundError:\n",
    "    sys.path.append(\"..\")\n",
    "    import covid19_inference as cov19\n"
   ]
  },
  {
   "cell_type": "code",
   "execution_count": 2,
   "metadata": {},
   "outputs": [
    {
     "ename": "NameError",
     "evalue": "name 'jhu' is not defined",
     "output_type": "error",
     "traceback": [
      "\u001b[0;31m---------------------------------------------------------------------------\u001b[0m",
      "\u001b[0;31mNameError\u001b[0m                                 Traceback (most recent call last)",
      "\u001b[0;32m<ipython-input-2-b58b4143466f>\u001b[0m in \u001b[0;36m<module>\u001b[0;34m\u001b[0m\n\u001b[0;32m----> 1\u001b[0;31m \u001b[0mnew_cases\u001b[0m \u001b[0;34m=\u001b[0m \u001b[0mjhu\u001b[0m\u001b[0;34m.\u001b[0m\u001b[0mget_new\u001b[0m\u001b[0;34m(\u001b[0m\u001b[0mcountry\u001b[0m\u001b[0;34m=\u001b[0m\u001b[0;34m\"Germany\"\u001b[0m\u001b[0;34m,\u001b[0m \u001b[0mdata_begin\u001b[0m\u001b[0;34m=\u001b[0m\u001b[0mbd\u001b[0m\u001b[0;34m)\u001b[0m\u001b[0;34m\u001b[0m\u001b[0;34m\u001b[0m\u001b[0m\n\u001b[0m\u001b[1;32m      2\u001b[0m \u001b[0mnew_cases\u001b[0m\u001b[0;34m.\u001b[0m\u001b[0mindex\u001b[0m\u001b[0;34m[\u001b[0m\u001b[0;34m-\u001b[0m\u001b[0;36m1\u001b[0m\u001b[0;34m]\u001b[0m\u001b[0;34m\u001b[0m\u001b[0;34m\u001b[0m\u001b[0m\n",
      "\u001b[0;31mNameError\u001b[0m: name 'jhu' is not defined"
     ]
    }
   ],
   "source": [
    "new_cases = jhu.get_new(country=\"Germany\", data_begin=bd)\n",
    "new_cases.index[-1]"
   ]
  },
  {
   "cell_type": "code",
   "execution_count": 3,
   "metadata": {},
   "outputs": [
    {
     "ename": "AttributeError",
     "evalue": "module 'covid19_inference.data_retrieval' has no attribute 'JHU'",
     "output_type": "error",
     "traceback": [
      "\u001b[0;31m---------------------------------------------------------------------------\u001b[0m",
      "\u001b[0;31mAttributeError\u001b[0m                            Traceback (most recent call last)",
      "\u001b[0;32m<ipython-input-3-adcb0392dfbf>\u001b[0m in \u001b[0;36m<module>\u001b[0;34m\u001b[0m\n\u001b[1;32m      1\u001b[0m \u001b[0mbd\u001b[0m \u001b[0;34m=\u001b[0m \u001b[0mdatetime\u001b[0m\u001b[0;34m.\u001b[0m\u001b[0mdatetime\u001b[0m\u001b[0;34m(\u001b[0m\u001b[0;36m2020\u001b[0m\u001b[0;34m,\u001b[0m \u001b[0;36m3\u001b[0m\u001b[0;34m,\u001b[0m \u001b[0;36m2\u001b[0m\u001b[0;34m)\u001b[0m\u001b[0;34m\u001b[0m\u001b[0;34m\u001b[0m\u001b[0m\n\u001b[1;32m      2\u001b[0m \u001b[0;34m\u001b[0m\u001b[0m\n\u001b[0;32m----> 3\u001b[0;31m \u001b[0mjhu\u001b[0m \u001b[0;34m=\u001b[0m \u001b[0mcov19\u001b[0m\u001b[0;34m.\u001b[0m\u001b[0mdata_retrieval\u001b[0m\u001b[0;34m.\u001b[0m\u001b[0mJHU\u001b[0m\u001b[0;34m(\u001b[0m\u001b[0;34m)\u001b[0m\u001b[0;34m\u001b[0m\u001b[0;34m\u001b[0m\u001b[0m\n\u001b[0m\u001b[1;32m      4\u001b[0m \u001b[0mjhu\u001b[0m\u001b[0;34m.\u001b[0m\u001b[0mdownload_all_available_data\u001b[0m\u001b[0;34m(\u001b[0m\u001b[0mforce_download\u001b[0m\u001b[0;34m=\u001b[0m\u001b[0;32mTrue\u001b[0m\u001b[0;34m)\u001b[0m\u001b[0;34m\u001b[0m\u001b[0;34m\u001b[0m\u001b[0m\n\u001b[1;32m      5\u001b[0m \u001b[0mcum_cases\u001b[0m \u001b[0;34m=\u001b[0m \u001b[0mjhu\u001b[0m\u001b[0;34m.\u001b[0m\u001b[0mget_total\u001b[0m\u001b[0;34m(\u001b[0m\u001b[0mcountry\u001b[0m\u001b[0;34m=\u001b[0m\u001b[0;34m\"Germany\"\u001b[0m\u001b[0;34m,\u001b[0m \u001b[0mdata_begin\u001b[0m\u001b[0;34m=\u001b[0m\u001b[0mbd\u001b[0m\u001b[0;34m)\u001b[0m\u001b[0;34m\u001b[0m\u001b[0;34m\u001b[0m\u001b[0m\n",
      "\u001b[0;31mAttributeError\u001b[0m: module 'covid19_inference.data_retrieval' has no attribute 'JHU'"
     ]
    }
   ],
   "source": [
    "bd = datetime.datetime(2020, 3, 2)\n",
    "\n",
    "jhu = cov19.data_retrieval.JHU()\n",
    "jhu.download_all_available_data(force_download=True)\n",
    "cum_cases = jhu.get_total(country=\"Germany\", data_begin=bd)\n",
    "new_cases = jhu.get_new(country=\"Germany\", data_begin=bd)\n",
    "print(\"Last data date: {}\".format(new_cases.index[-1]))\n",
    "\n",
    "\n",
    "params_model = dict(\n",
    "    new_cases_obs=new_cases,\n",
    "    data_begin=bd,\n",
    "    fcast_len=80,\n",
    "    diff_data_sim=16,\n",
    "    N_population=83e6,\n",
    ")\n",
    "\n",
    "def make_cp_list(factor_dict, date_end):\n",
    "\n",
    "    # change points like in the paper\n",
    "    cp_list = [\n",
    "        # mild distancing\n",
    "        dict(\n",
    "            # account for new implementation where transients_day is centered, not begin\n",
    "            pr_mean_date_transient=datetime.datetime(2020, 3, 10),\n",
    "            pr_median_transient_len=3,\n",
    "            pr_sigma_transient_len=0.3,\n",
    "            pr_sigma_date_transient=3,\n",
    "            pr_median_lambda=0.2,\n",
    "            pr_sigma_lambda=0.5,\n",
    "        ),\n",
    "        # strong distancing\n",
    "        dict(\n",
    "            pr_mean_date_transient=datetime.datetime(2020, 3, 17),\n",
    "            pr_median_transient_len=3,\n",
    "            pr_sigma_transient_len=0.3,\n",
    "            pr_sigma_date_transient=1,\n",
    "            pr_median_lambda=1 / 8,\n",
    "            pr_sigma_lambda=0.5,\n",
    "        ),\n",
    "        # contact ban\n",
    "        dict(\n",
    "            pr_mean_date_transient=datetime.datetime(2020, 3, 24),\n",
    "            pr_median_transient_len=3,\n",
    "            pr_sigma_transient_len=0.3,\n",
    "            pr_sigma_date_transient=1,\n",
    "            pr_median_lambda=1 / 16,\n",
    "            pr_sigma_lambda=0.5,\n",
    "        ),\n",
    "    ]\n",
    "    pr_median_transient_len = 3\n",
    "    pr_sigma_transient_len = 0.3\n",
    "    pr_sigma_date_transient = 1\n",
    "    last_date = datetime.datetime(2020, 3, 24)\n",
    "    while True:\n",
    "        date = last_date + datetime.timedelta(days=7)\n",
    "        if date > date_end: break\n",
    "        if date in factor_dict.keys():\n",
    "            pr_factor_to_previous = factor_dict[date][0]\n",
    "            print(\"use factor {} on {}\".format(pr_factor_to_previous, date))\n",
    "            pr_sigma_lambda=factor_dict[date][1]\n",
    "        else:\n",
    "            pr_factor_to_previous = 1\n",
    "            pr_sigma_lambda = 0.15\n",
    "\n",
    "        \n",
    "        cp = dict(\n",
    "            pr_mean_date_transient=date,\n",
    "            pr_sigma_lambda = pr_sigma_lambda,\n",
    "            pr_median_transient_len=pr_median_transient_len,\n",
    "            pr_sigma_transient_len=pr_sigma_transient_len,\n",
    "            pr_sigma_date_transient=pr_sigma_date_transient,\n",
    "            relative_to_previous=True,\n",
    "            pr_factor_to_previous = pr_factor_to_previous\n",
    "        )\n",
    "        cp_list.append(cp)\n",
    "        last_date = date\n",
    "    \n",
    "    return cp_list\n",
    "\n",
    "cp_a = make_cp_list({datetime.datetime(2020, 5, 12):[2, 0.01],\n",
    "                     datetime.datetime(2020, 5, 5):[1, 0.02]}, datetime.datetime(2020, 5, 12))\n",
    "cp_b = make_cp_list({datetime.datetime(2020, 5, 12):[1.5, 0.01],\n",
    "                     datetime.datetime(2020, 5, 5):[1, 0.02]}, datetime.datetime(2020, 5, 12))\n",
    "cp_c = make_cp_list({datetime.datetime(2020, 5, 12):[1, 0.01],\n",
    "                     datetime.datetime(2020, 5, 5):[1, 0.02]}, datetime.datetime(2020, 5, 12))\n",
    "\n",
    "def create_model(change_points, params_model):\n",
    "    with cov19.Cov19Model(**params_model) as model:\n",
    "        lambda_t_log = cov19.lambda_t_with_sigmoids(\n",
    "            pr_median_lambda_0=0.4,\n",
    "            pr_sigma_lambda_0=0.5,\n",
    "            change_points_list=change_points,\n",
    "        )\n",
    "\n",
    "        mu = pm.Lognormal(name=\"mu\", mu=np.log(1 / 8), sigma=0.2)\n",
    "        pr_median_delay = 10\n",
    "\n",
    "        prior_I = cov19.make_prior_I(lambda_t_log, mu, pr_median_delay=pr_median_delay)\n",
    "\n",
    "        new_I_t = cov19.SIR(lambda_t_log, mu, pr_I_begin=prior_I)\n",
    "\n",
    "        new_cases_inferred_raw = cov19.delay_cases(\n",
    "            new_I_t, pr_median_delay=pr_median_delay, pr_median_scale_delay=0.3\n",
    "        )\n",
    "\n",
    "        new_cases_inferred = cov19.week_modulation(new_cases_inferred_raw)\n",
    "\n",
    "        cov19.student_t_likelihood(new_cases_inferred)\n",
    "\n",
    "    return model\n",
    "\n",
    "\n",
    "mod_a = create_model(cp_a, params_model)\n",
    "mod_b = create_model(cp_b, params_model)\n",
    "mod_c = create_model(cp_c, params_model)\n",
    "\n"
   ]
  },
  {
   "cell_type": "code",
   "execution_count": 4,
   "metadata": {},
   "outputs": [
    {
     "ename": "NameError",
     "evalue": "name 'mod_a' is not defined",
     "output_type": "error",
     "traceback": [
      "\u001b[0;31m---------------------------------------------------------------------------\u001b[0m",
      "\u001b[0;31mNameError\u001b[0m                                 Traceback (most recent call last)",
      "\u001b[0;32m<ipython-input-4-269d3f102816>\u001b[0m in \u001b[0;36m<module>\u001b[0;34m\u001b[0m\n\u001b[1;32m      1\u001b[0m \u001b[0;32mimport\u001b[0m \u001b[0mpickle\u001b[0m\u001b[0;34m\u001b[0m\u001b[0;34m\u001b[0m\u001b[0m\n\u001b[0;32m----> 2\u001b[0;31m \u001b[0mtr_a\u001b[0m \u001b[0;34m=\u001b[0m \u001b[0mpm\u001b[0m\u001b[0;34m.\u001b[0m\u001b[0msample\u001b[0m\u001b[0;34m(\u001b[0m\u001b[0mmodel\u001b[0m\u001b[0;34m=\u001b[0m\u001b[0mmod_a\u001b[0m\u001b[0;34m,\u001b[0m \u001b[0mtune\u001b[0m\u001b[0;34m=\u001b[0m\u001b[0;36m1000\u001b[0m\u001b[0;34m,\u001b[0m \u001b[0mdraws\u001b[0m\u001b[0;34m=\u001b[0m\u001b[0;36m1000\u001b[0m\u001b[0;34m,\u001b[0m \u001b[0minit\u001b[0m\u001b[0;34m=\u001b[0m\u001b[0;34m\"advi+adapt_diag\"\u001b[0m\u001b[0;34m)\u001b[0m\u001b[0;34m\u001b[0m\u001b[0;34m\u001b[0m\u001b[0m\n\u001b[0m\u001b[1;32m      3\u001b[0m \u001b[0mtr_b\u001b[0m \u001b[0;34m=\u001b[0m \u001b[0mpm\u001b[0m\u001b[0;34m.\u001b[0m\u001b[0msample\u001b[0m\u001b[0;34m(\u001b[0m\u001b[0mmodel\u001b[0m\u001b[0;34m=\u001b[0m\u001b[0mmod_b\u001b[0m\u001b[0;34m,\u001b[0m \u001b[0mtune\u001b[0m\u001b[0;34m=\u001b[0m\u001b[0;36m1000\u001b[0m\u001b[0;34m,\u001b[0m \u001b[0mdraws\u001b[0m\u001b[0;34m=\u001b[0m\u001b[0;36m1000\u001b[0m\u001b[0;34m,\u001b[0m \u001b[0minit\u001b[0m\u001b[0;34m=\u001b[0m\u001b[0;34m\"advi+adapt_diag\"\u001b[0m\u001b[0;34m)\u001b[0m\u001b[0;34m\u001b[0m\u001b[0;34m\u001b[0m\u001b[0m\n\u001b[1;32m      4\u001b[0m \u001b[0mtr_c\u001b[0m \u001b[0;34m=\u001b[0m \u001b[0mpm\u001b[0m\u001b[0;34m.\u001b[0m\u001b[0msample\u001b[0m\u001b[0;34m(\u001b[0m\u001b[0mmodel\u001b[0m\u001b[0;34m=\u001b[0m\u001b[0mmod_c\u001b[0m\u001b[0;34m,\u001b[0m \u001b[0mtune\u001b[0m\u001b[0;34m=\u001b[0m\u001b[0;36m1000\u001b[0m\u001b[0;34m,\u001b[0m \u001b[0mdraws\u001b[0m\u001b[0;34m=\u001b[0m\u001b[0;36m1000\u001b[0m\u001b[0;34m,\u001b[0m \u001b[0minit\u001b[0m\u001b[0;34m=\u001b[0m\u001b[0;34m\"advi+adapt_diag\"\u001b[0m\u001b[0;34m)\u001b[0m\u001b[0;34m\u001b[0m\u001b[0;34m\u001b[0m\u001b[0m\n\u001b[1;32m      5\u001b[0m \u001b[0mpickle\u001b[0m\u001b[0;34m.\u001b[0m\u001b[0mdump\u001b[0m\u001b[0;34m(\u001b[0m\u001b[0;34m[\u001b[0m\u001b[0;34m(\u001b[0m\u001b[0mmod_a\u001b[0m\u001b[0;34m,\u001b[0m \u001b[0mmod_b\u001b[0m\u001b[0;34m,\u001b[0m \u001b[0mmod_c\u001b[0m\u001b[0;34m)\u001b[0m\u001b[0;34m,\u001b[0m \u001b[0;34m(\u001b[0m\u001b[0mtr_a\u001b[0m\u001b[0;34m,\u001b[0m \u001b[0mtr_b\u001b[0m\u001b[0;34m,\u001b[0m \u001b[0mtr_c\u001b[0m\u001b[0;34m)\u001b[0m\u001b[0;34m]\u001b[0m\u001b[0;34m,\u001b[0m \u001b[0mopen\u001b[0m\u001b[0;34m(\u001b[0m\u001b[0;34m'../data/what_if.pickled'\u001b[0m\u001b[0;34m,\u001b[0m \u001b[0;34m'wb'\u001b[0m\u001b[0;34m)\u001b[0m\u001b[0;34m)\u001b[0m\u001b[0;34m\u001b[0m\u001b[0;34m\u001b[0m\u001b[0m\n",
      "\u001b[0;31mNameError\u001b[0m: name 'mod_a' is not defined"
     ]
    }
   ],
   "source": [
    "import pickle\n",
    "tr_a = pm.sample(model=mod_a, tune=1000, draws=1000, init=\"advi+adapt_diag\")\n",
    "tr_b = pm.sample(model=mod_b, tune=1000, draws=1000, init=\"advi+adapt_diag\")\n",
    "tr_c = pm.sample(model=mod_c, tune=1000, draws=1000, init=\"advi+adapt_diag\")\n",
    "pickle.dump([(mod_a, mod_b, mod_c), (tr_a, tr_b, tr_c)], open('../data/what_if.pickled', 'wb'))"
   ]
  },
  {
   "cell_type": "code",
   "execution_count": 5,
   "metadata": {},
   "outputs": [
    {
     "ename": "AttributeError",
     "evalue": "module 'covid19_inference' has no attribute 'plot'",
     "output_type": "error",
     "traceback": [
      "\u001b[0;31m---------------------------------------------------------------------------\u001b[0m",
      "\u001b[0;31mAttributeError\u001b[0m                            Traceback (most recent call last)",
      "\u001b[0;32m<ipython-input-5-d0e41a719e3b>\u001b[0m in \u001b[0;36m<module>\u001b[0;34m\u001b[0m\n\u001b[1;32m      4\u001b[0m \u001b[0;34m\u001b[0m\u001b[0m\n\u001b[1;32m      5\u001b[0m \u001b[0;31m# english\u001b[0m\u001b[0;34m\u001b[0m\u001b[0;34m\u001b[0m\u001b[0;34m\u001b[0m\u001b[0m\n\u001b[0;32m----> 6\u001b[0;31m \u001b[0mcov19\u001b[0m\u001b[0;34m.\u001b[0m\u001b[0mplot\u001b[0m\u001b[0;34m.\u001b[0m\u001b[0mset_rcparams\u001b[0m\u001b[0;34m(\u001b[0m\u001b[0mcov19\u001b[0m\u001b[0;34m.\u001b[0m\u001b[0mplot\u001b[0m\u001b[0;34m.\u001b[0m\u001b[0mget_rcparams_default\u001b[0m\u001b[0;34m(\u001b[0m\u001b[0;34m)\u001b[0m\u001b[0;34m)\u001b[0m\u001b[0;34m\u001b[0m\u001b[0;34m\u001b[0m\u001b[0m\n\u001b[0m\u001b[1;32m      7\u001b[0m \u001b[0mcov19\u001b[0m\u001b[0;34m.\u001b[0m\u001b[0mplot\u001b[0m\u001b[0;34m.\u001b[0m\u001b[0mrcParams\u001b[0m\u001b[0;34m.\u001b[0m\u001b[0mdraw_ci_50\u001b[0m \u001b[0;34m=\u001b[0m \u001b[0;32mTrue\u001b[0m\u001b[0;34m\u001b[0m\u001b[0;34m\u001b[0m\u001b[0m\n\u001b[1;32m      8\u001b[0m \u001b[0;34m\u001b[0m\u001b[0m\n",
      "\u001b[0;31mAttributeError\u001b[0m: module 'covid19_inference' has no attribute 'plot'"
     ]
    }
   ],
   "source": [
    "# ------------------------------------------------------------------------------ #\n",
    "# plotting\n",
    "# ------------------------------------------------------------------------------ #\n",
    "\n",
    "# english\n",
    "cov19.plot.set_rcparams(cov19.plot.get_rcparams_default())\n",
    "cov19.plot.rcParams.draw_ci_50 = True\n",
    "\n",
    "end = datetime.datetime(2020,6,14)\n",
    "\n",
    "fig, axes = cov19.plot.timeseries_overview(\n",
    "    mod_a,\n",
    "    tr_a,\n",
    "    offset=cum_cases[0],\n",
    "    forecast_label=\"Pessimistic\",\n",
    "    forecast_heading=r\"$\\bf Scenarios\\!:$\",\n",
    "    add_more_later=True,\n",
    "    color=\"tab:red\",\n",
    "\n",
    ")\n",
    "\n",
    "\n",
    "fig, axes = cov19.plot.timeseries_overview(\n",
    "    mod_b,\n",
    "    tr_b,\n",
    "    axes=axes,\n",
    "    offset=cum_cases[0],\n",
    "    forecast_label=\"Neutral\",\n",
    "    color=\"tab:orange\",\n",
    ")\n",
    "\n",
    "fig, axes = cov19.plot.timeseries_overview(\n",
    "    mod_c,\n",
    "    tr_c,\n",
    "    axes=axes,\n",
    "    offset=cum_cases[0],\n",
    "    forecast_label=\"Optimistic\",\n",
    "    color=\"tab:green\",\n",
    "    end=end,\n",
    "   \n",
    ")\n",
    "axes[0].set_ylim(-0.07,0.3)\n",
    "axes[1].set_ylim(0,7500)\n",
    "axes[2].set_ylim(0,220_000)\n",
    "\n",
    "fig.savefig('../figures/what_if_english.pdf', dpi=300, bbox_inches=\"tight\", pad_inches=0.05)\n",
    "fig.savefig('../figures/what_if_english.png', dpi=300, bbox_inches=\"tight\", pad_inches=0.05)\n",
    "\n",
    "# german\n",
    "cov19.plot.set_rcparams(cov19.plot.get_rcparams_default())\n",
    "cov19.plot.rcParams.draw_ci_50 = True\n",
    "cov19.plot.rcParams.locale = \"de_DE\"\n",
    "cov19.plot.rcParams.date_format = \"%-d. %b\"\n",
    "\n",
    "fig, axes = cov19.plot.timeseries_overview(\n",
    "    mod_a,\n",
    "    tr_a,\n",
    "    offset=cum_cases[0],\n",
    "    forecast_label=\"pessimistisch\",\n",
    "    forecast_heading=r\"$\\bf Szenarien\\!:$\",\n",
    "    add_more_later=True,\n",
    "    color=\"tab:red\",\n",
    ")\n",
    "\n",
    "\n",
    "fig, axes = cov19.plot.timeseries_overview(\n",
    "    mod_b,\n",
    "    tr_b,\n",
    "    axes=axes,\n",
    "    offset=cum_cases[0],\n",
    "    forecast_label=\"neutral\",\n",
    "    color=\"tab:orange\",\n",
    ")\n",
    "\n",
    "fig, axes = cov19.plot.timeseries_overview(\n",
    "    mod_c,\n",
    "    tr_c,\n",
    "    axes=axes,\n",
    "    offset=cum_cases[0],\n",
    "    forecast_label=\"optimistisch\",\n",
    "    color=\"tab:green\",\n",
    "    end=end\n",
    ")\n",
    "\n",
    "axes[0].set_ylim(-0.07,0.3)\n",
    "axes[1].set_ylim(0,7500)\n",
    "axes[2].set_ylim(0,220_000)\n",
    "\n",
    "fig.savefig('../figures/what_if_german.pdf', dpi=300, bbox_inches=\"tight\", pad_inches=0.05)\n",
    "fig.savefig('../figures/what_if_german.png', dpi=300, bbox_inches=\"tight\", pad_inches=0.05)"
   ]
  },
  {
   "cell_type": "code",
   "execution_count": 6,
   "metadata": {},
   "outputs": [
    {
     "ename": "NameError",
     "evalue": "name 'tr_a' is not defined",
     "output_type": "error",
     "traceback": [
      "\u001b[0;31m---------------------------------------------------------------------------\u001b[0m",
      "\u001b[0;31mNameError\u001b[0m                                 Traceback (most recent call last)",
      "\u001b[0;32m<ipython-input-6-284f83f62cc5>\u001b[0m in \u001b[0;36m<module>\u001b[0;34m\u001b[0m\n\u001b[0;32m----> 1\u001b[0;31m \u001b[0mtrace\u001b[0m \u001b[0;34m=\u001b[0m\u001b[0mtr_a\u001b[0m\u001b[0;34m\u001b[0m\u001b[0;34m\u001b[0m\u001b[0m\n\u001b[0m\u001b[1;32m      2\u001b[0m \u001b[0mnum_cps\u001b[0m \u001b[0;34m=\u001b[0m \u001b[0;36m10\u001b[0m\u001b[0;34m\u001b[0m\u001b[0;34m\u001b[0m\u001b[0m\n\u001b[1;32m      3\u001b[0m \u001b[0mf\u001b[0m\u001b[0;34m,\u001b[0m \u001b[0maxes\u001b[0m \u001b[0;34m=\u001b[0m \u001b[0mplt\u001b[0m\u001b[0;34m.\u001b[0m\u001b[0msubplots\u001b[0m\u001b[0;34m(\u001b[0m\u001b[0mnum_cps\u001b[0m\u001b[0;34m,\u001b[0m\u001b[0;36m2\u001b[0m\u001b[0;34m,\u001b[0m \u001b[0mfigsize\u001b[0m \u001b[0;34m=\u001b[0m \u001b[0;34m(\u001b[0m\u001b[0;36m5\u001b[0m\u001b[0;34m,\u001b[0m\u001b[0;36m20\u001b[0m\u001b[0;34m)\u001b[0m\u001b[0;34m)\u001b[0m\u001b[0;34m\u001b[0m\u001b[0;34m\u001b[0m\u001b[0m\n\u001b[1;32m      4\u001b[0m \u001b[0;32mfor\u001b[0m \u001b[0mi\u001b[0m \u001b[0;32min\u001b[0m \u001b[0mrange\u001b[0m\u001b[0;34m(\u001b[0m\u001b[0mnum_cps\u001b[0m\u001b[0;34m)\u001b[0m\u001b[0;34m:\u001b[0m\u001b[0;34m\u001b[0m\u001b[0;34m\u001b[0m\u001b[0m\n\u001b[1;32m      5\u001b[0m     \u001b[0max\u001b[0m \u001b[0;34m=\u001b[0m \u001b[0maxes\u001b[0m\u001b[0;34m[\u001b[0m\u001b[0mi\u001b[0m\u001b[0;34m]\u001b[0m\u001b[0;34m[\u001b[0m\u001b[0;36m0\u001b[0m\u001b[0;34m]\u001b[0m\u001b[0;34m\u001b[0m\u001b[0;34m\u001b[0m\u001b[0m\n",
      "\u001b[0;31mNameError\u001b[0m: name 'tr_a' is not defined"
     ]
    }
   ],
   "source": [
    "trace =tr_a\n",
    "num_cps = 10\n",
    "f, axes = plt.subplots(num_cps,2, figsize = (5,20))\n",
    "for i in range(num_cps):\n",
    "    ax = axes[i][0]\n",
    "    ax.hist(trace[f'lambda_{i}'])\n",
    "    \n",
    "    ax = axes[i][1]\n",
    "    ax.hist(trace[f'transient_day_{i+1}'])\n",
    "plt.tight_layout()\n",
    "plt.show()\n"
   ]
  },
  {
   "cell_type": "code",
   "execution_count": 7,
   "metadata": {},
   "outputs": [
    {
     "ename": "NameError",
     "evalue": "name 'trace' is not defined",
     "output_type": "error",
     "traceback": [
      "\u001b[0;31m---------------------------------------------------------------------------\u001b[0m",
      "\u001b[0;31mNameError\u001b[0m                                 Traceback (most recent call last)",
      "\u001b[0;32m<ipython-input-7-22a26b6a47f4>\u001b[0m in \u001b[0;36m<module>\u001b[0;34m\u001b[0m\n\u001b[0;32m----> 1\u001b[0;31m \u001b[0mplt\u001b[0m\u001b[0;34m.\u001b[0m\u001b[0mplot\u001b[0m\u001b[0;34m(\u001b[0m\u001b[0mtrace\u001b[0m\u001b[0;34m.\u001b[0m\u001b[0mnew_cases\u001b[0m\u001b[0;34m)\u001b[0m\u001b[0;34m\u001b[0m\u001b[0;34m\u001b[0m\u001b[0m\n\u001b[0m",
      "\u001b[0;31mNameError\u001b[0m: name 'trace' is not defined"
     ]
    }
   ],
   "source": [
    "plt.plot(trace.new_cases)"
   ]
  },
  {
   "cell_type": "code",
   "execution_count": 8,
   "metadata": {},
   "outputs": [
    {
     "ename": "NameError",
     "evalue": "name 'trace' is not defined",
     "output_type": "error",
     "traceback": [
      "\u001b[0;31m---------------------------------------------------------------------------\u001b[0m",
      "\u001b[0;31mNameError\u001b[0m                                 Traceback (most recent call last)",
      "\u001b[0;32m<ipython-input-8-ccca01c04474>\u001b[0m in \u001b[0;36m<module>\u001b[0;34m\u001b[0m\n\u001b[0;32m----> 1\u001b[0;31m \u001b[0mprint\u001b[0m\u001b[0;34m(\u001b[0m\u001b[0mnp\u001b[0m\u001b[0;34m.\u001b[0m\u001b[0mmedian\u001b[0m\u001b[0;34m(\u001b[0m\u001b[0mtrace\u001b[0m\u001b[0;34m.\u001b[0m\u001b[0mmu\u001b[0m\u001b[0;34m)\u001b[0m\u001b[0;34m,\u001b[0m\u001b[0mnp\u001b[0m\u001b[0;34m.\u001b[0m\u001b[0mmedian\u001b[0m\u001b[0;34m(\u001b[0m\u001b[0mtrace\u001b[0m\u001b[0;34m.\u001b[0m\u001b[0mlambda_9\u001b[0m\u001b[0;34m)\u001b[0m\u001b[0;34m,\u001b[0m \u001b[0mnp\u001b[0m\u001b[0;34m.\u001b[0m\u001b[0mmedian\u001b[0m\u001b[0;34m(\u001b[0m\u001b[0mtrace\u001b[0m\u001b[0;34m.\u001b[0m\u001b[0mlambda_10\u001b[0m\u001b[0;34m)\u001b[0m\u001b[0;34m,\u001b[0m \u001b[0mnp\u001b[0m\u001b[0;34m.\u001b[0m\u001b[0mmedian\u001b[0m\u001b[0;34m(\u001b[0m\u001b[0mtrace\u001b[0m\u001b[0;34m.\u001b[0m\u001b[0mlambda_2\u001b[0m\u001b[0;34m)\u001b[0m\u001b[0;34m)\u001b[0m\u001b[0;34m\u001b[0m\u001b[0;34m\u001b[0m\u001b[0m\n\u001b[0m",
      "\u001b[0;31mNameError\u001b[0m: name 'trace' is not defined"
     ]
    }
   ],
   "source": [
    "print(np.median(trace.mu),np.median(trace.lambda_9), np.median(trace.lambda_10), np.median(trace.lambda_2))"
   ]
  },
  {
   "cell_type": "code",
   "execution_count": 9,
   "metadata": {},
   "outputs": [
    {
     "data": {
      "text/plain": [
       "0.125"
      ]
     },
     "execution_count": 9,
     "metadata": {},
     "output_type": "execute_result"
    }
   ],
   "source": [
    "1/8"
   ]
  },
  {
   "cell_type": "code",
   "execution_count": null,
   "metadata": {},
   "outputs": [],
   "source": []
  }
 ],
 "metadata": {
  "kernelspec": {
   "display_name": "Python 3",
   "language": "python",
   "name": "python3"
  },
  "language_info": {
   "codemirror_mode": {
    "name": "ipython",
    "version": 3
   },
   "file_extension": ".py",
   "mimetype": "text/x-python",
   "name": "python",
   "nbconvert_exporter": "python",
   "pygments_lexer": "ipython3",
   "version": "3.7.6"
  }
 },
 "nbformat": 4,
 "nbformat_minor": 4
}
