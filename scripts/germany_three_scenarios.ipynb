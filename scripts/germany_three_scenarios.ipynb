{
 "cells": [
  {
   "cell_type": "code",
   "execution_count": 2,
   "metadata": {
    "collapsed": true,
    "pycharm": {
     "is_executing": false
    }
   },
   "outputs": [
    {
     "name": "stdout",
     "text": [
      "Hi\n"
     ],
     "output_type": "stream"
    }
   ],
   "source": [
    "import sys\n",
    "import datetime\n",
    "\n",
    "import numpy as np\n",
    "import pymc3 as pm\n",
    "\n",
    "import covid19_inference as cov19\n",
    "\n",
    "confirmed_cases = cov19.get_jhu_confirmed_cases()\n",
    "\n",
    "date_data_begin = datetime.datetime(2020,3,1)\n",
    "date_data_end   = cov19.get_last_date(confirmed_cases)\n",
    "#date_data_end   = datetime.datetime(2020,3,28)\n",
    "num_days_data = (date_data_end-date_data_begin).days\n",
    "diff_data_sim = 16 # should be significantly larger than the expected delay, in \n",
    "                   # order to always fit the same number of data points.\n",
    "num_days_future = 28\n",
    "date_begin_sim = date_data_begin - datetime.timedelta(days = diff_data_sim)\n",
    "date_end_sim   = date_data_end   + datetime.timedelta(days = num_days_future)\n",
    "num_days_sim = (date_end_sim-date_begin_sim).days\n",
    "\n",
    "\n",
    "cases_obs = cov19.filter_one_country(confirmed_cases, 'Germany',\n",
    "                                                 date_data_begin, date_data_end)\n",
    "\n",
    "change_points = [dict(prior_mean_date_begin_transient = datetime.datetime(2020,3,9),\n",
    "                      prior_median_λ = 0.2),\n",
    "                 dict(prior_mean_date_begin_transient = datetime.datetime(2020,3,16),\n",
    "                      prior_sigma_date_begin_transient = 1,\n",
    "                      prior_median_λ = 1/8,\n",
    "                      prior_sigma_λ = 0.2),\n",
    "                 dict(prior_mean_date_begin_transient = datetime.datetime(2020,3,23),\n",
    "                      prior_sigma_date_begin_transient = 1,\n",
    "                      prior_median_λ = 1/8/2,\n",
    "                      prior_sigma_λ = 0.2)]\n",
    "\n",
    "model = cov19.SIR_model_with_change_points(np.diff(cases_obs),\n",
    "                                                       change_points,\n",
    "                                                       date_begin_sim,\n",
    "                                                       num_days_sim,\n",
    "                                                       diff_data_sim)\n",
    "\n",
    "pm.sample(model=model, init='adapt_diag')\n",
    "\n",
    "\n",
    "\n",
    "varnames = list(filter(lambda x: 'log__' not in x, [str(x) for x in model.unobserved_RVs]))\n",
    "for varname in varnames:\n",
    "    dist = getattr(model[varname], 'distribution', None)\n",
    "    try:\n",
    "        print(varname)\n",
    "        print(dist.mu) \n",
    "        print(dist.sigma) \n",
    "    except AttributeError: \n",
    "        print(dist.beta)\n"
   ]
  }
 ],
 "metadata": {
  "language_info": {
   "codemirror_mode": {
    "name": "ipython",
    "version": 2
   },
   "file_extension": ".py",
   "mimetype": "text/x-python",
   "name": "python",
   "nbconvert_exporter": "python",
   "pygments_lexer": "ipython2",
   "version": "2.7.6"
  },
  "kernelspec": {
   "name": "python3",
   "language": "python",
   "display_name": "Python 3"
  },
  "pycharm": {
   "stem_cell": {
    "cell_type": "raw",
    "source": [],
    "metadata": {
     "collapsed": false
    }
   }
  }
 },
 "nbformat": 4,
 "nbformat_minor": 0
}